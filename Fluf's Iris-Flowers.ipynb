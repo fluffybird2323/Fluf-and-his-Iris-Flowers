{
 "cells": [
  {
   "cell_type": "code",
   "execution_count": 65,
   "metadata": {},
   "outputs": [],
   "source": [
    "import csv\n",
    "import numpy as np"
   ]
  },
  {
   "cell_type": "code",
   "execution_count": 73,
   "metadata": {},
   "outputs": [],
   "source": [
    "with open('Train_data.csv', 'r') as f:\n",
    "    wines = list(csv.reader(f, delimiter=','))"
   ]
  },
  {
   "cell_type": "code",
   "execution_count": 74,
   "metadata": {},
   "outputs": [],
   "source": [
    "X = np.array(wines[1:])"
   ]
  },
  {
   "cell_type": "code",
   "execution_count": 75,
   "metadata": {},
   "outputs": [],
   "source": [
    "y = np.array(X[:,4])\n",
    "y = y.reshape(120,1)"
   ]
  },
  {
   "cell_type": "code",
   "execution_count": 76,
   "metadata": {},
   "outputs": [],
   "source": [
    "X = X[:,:4]\n",
    "X = X.T "
   ]
  },
  {
   "cell_type": "code",
   "execution_count": 77,
   "metadata": {},
   "outputs": [
    {
     "name": "stdout",
     "output_type": "stream",
     "text": [
      "(3, 120, 1)\n"
     ]
    }
   ],
   "source": [
    "y=y.astype(np.int)\n",
    "y=np.eye(3)[y.T].T\n",
    "print(y.shape)"
   ]
  },
  {
   "cell_type": "code",
   "execution_count": 175,
   "metadata": {},
   "outputs": [],
   "source": [
    "W1=np.random.randn(16,4)*np.sqrt(2/4)\n",
    "b1 = np.zeros(shape=(16,1))\n",
    "W2=np.random.randn(3,16)*np.sqrt(2/16)\n",
    "b2 = np.zeros(shape=(3,1))"
   ]
  },
  {
   "cell_type": "code",
   "execution_count": 176,
   "metadata": {},
   "outputs": [],
   "source": [
    "y = np.array(y.reshape(3,120))"
   ]
  },
  {
   "cell_type": "code",
   "execution_count": 177,
   "metadata": {},
   "outputs": [],
   "source": [
    "X=np.array(X.astype(np.float))\n"
   ]
  },
  {
   "cell_type": "code",
   "execution_count": 178,
   "metadata": {},
   "outputs": [],
   "source": [
    "def relu(x):\n",
    "    return x*(x>0)\n",
    "def sigmoid(x):\n",
    "    return 1/(1+np.exp(-x))\n",
    "def compute_cost(AL, Y):\n",
    "    \n",
    "    m = Y.shape[1]\n",
    "    logprobs = np.multiply(np.log(AL),Y) +  np.multiply(np.log(1-AL), (1-Y))\n",
    "    cost = -1/m*np.sum(logprobs)\n",
    "    cost = np.squeeze(cost)\n",
    "    assert(cost.shape == ())\n",
    "    return cost\n",
    "\n"
   ]
  },
  {
   "cell_type": "code",
   "execution_count": 212,
   "metadata": {},
   "outputs": [
    {
     "name": "stdout",
     "output_type": "stream",
     "text": [
      "0.1046004219201714\n",
      "0.10459994782134885\n",
      "0.1045994737681417\n",
      "0.10459899976054571\n",
      "0.10459852579855587\n",
      "0.1045980518821676\n"
     ]
    }
   ],
   "source": [
    "m = y.shape[1]\n",
    "learning_rate= 0.000057\n",
    "for i in range(3000):\n",
    "    #Forward_prop\n",
    "    Z1=np.dot(W1,X) + b1\n",
    "    A1=relu(Z1)\n",
    "    Z2=np.dot(W2,A1) + b2\n",
    "    A2=sigmoid(Z2)\n",
    "    cost = compute_cost(A2,y)\n",
    "    if(i%500==0):\n",
    "        print(cost)\n",
    "    \n",
    "    dA2 = - (np.divide(y, A2) - np.divide(1 - y, 1 - A2))\n",
    "    dZ2 = dA2*np.multiply(A2,(1-A2))\n",
    "    dW2 = 1./m*np.dot(dZ2, A1.T)\n",
    "    db2 = 1./m*np.sum(dZ2, axis = 1, keepdims=True)\n",
    "    dA1 = np.dot(W2.T, dZ2)\n",
    "    dZ1 = dA1\n",
    "    dW1 = 1./m*np.dot(dZ1, X.T)\n",
    "    db1 = 1./m*np.sum(dZ1, axis = 1, keepdims=True)\n",
    "    \n",
    "    W1 = W1 - learning_rate*dW1\n",
    "    W2 = W2 - learning_rate*dW2\n",
    "    b1 = b1 - learning_rate*db1\n",
    "    b2 = b2 - learning_rate*db2\n",
    "    "
   ]
  },
  {
   "cell_type": "code",
   "execution_count": 223,
   "metadata": {},
   "outputs": [
    {
     "name": "stderr",
     "output_type": "stream",
     "text": [
      "/home/ishaan/anaconda3/lib/python3.6/site-packages/ipykernel_launcher.py:2: DeprecationWarning: elementwise == comparison failed; this will raise an error in the future.\n",
      "  \n"
     ]
    },
    {
     "ename": "TypeError",
     "evalue": "must be str, not numpy.float64",
     "output_type": "error",
     "traceback": [
      "\u001b[0;31m---------------------------------------------------------------------------\u001b[0m",
      "\u001b[0;31mTypeError\u001b[0m                                 Traceback (most recent call last)",
      "\u001b[0;32m<ipython-input-223-02fe76269b17>\u001b[0m in \u001b[0;36m<module>\u001b[0;34m\u001b[0m\n\u001b[1;32m      1\u001b[0m \u001b[0mpred\u001b[0m\u001b[0;34m=\u001b[0m\u001b[0mnp\u001b[0m\u001b[0;34m.\u001b[0m\u001b[0mrint\u001b[0m\u001b[0;34m(\u001b[0m\u001b[0mA2\u001b[0m\u001b[0;34m)\u001b[0m\u001b[0;34m\u001b[0m\u001b[0m\n\u001b[0;32m----> 2\u001b[0;31m \u001b[0mprint\u001b[0m\u001b[0;34m(\u001b[0m\u001b[0;34m\"Training set accuracy = \"\u001b[0m \u001b[0;34m+\u001b[0m \u001b[0;34m(\u001b[0m\u001b[0mnp\u001b[0m\u001b[0;34m.\u001b[0m\u001b[0msum\u001b[0m\u001b[0;34m(\u001b[0m\u001b[0mpred\u001b[0m\u001b[0;34m==\u001b[0m\u001b[0my\u001b[0m\u001b[0;34m)\u001b[0m\u001b[0;34m/\u001b[0m\u001b[0;36m360\u001b[0m\u001b[0;34m*\u001b[0m\u001b[0;36m100\u001b[0m\u001b[0;34m)\u001b[0m\u001b[0;34m)\u001b[0m\u001b[0;34m\u001b[0m\u001b[0m\n\u001b[0m",
      "\u001b[0;31mTypeError\u001b[0m: must be str, not numpy.float64"
     ]
    }
   ],
   "source": [
    "pred=np.rint(A2)\n",
    "print(\"Training set accuracy = \" + (np.sum(pred==y)/360*100))"
   ]
  },
  {
   "cell_type": "code",
   "execution_count": 214,
   "metadata": {},
   "outputs": [],
   "source": [
    "with open('Test_data.csv', 'r') as g:\n",
    "    win = list(csv.reader(g, delimiter=','))"
   ]
  },
  {
   "cell_type": "code",
   "execution_count": 215,
   "metadata": {},
   "outputs": [],
   "source": [
    "Xtest = np.array(win[1:])\n",
    "Xtest = np.array(Xtest.astype(np.float))\n",
    "Xtest = Xtest.T\n",
    "Z1=np.dot(W1,Xtest) + b1\n",
    "A1=relu(Z1)\n",
    "Z2=np.dot(W2,A1) + b2\n",
    "A2=sigmoid(Z2)"
   ]
  },
  {
   "cell_type": "code",
   "execution_count": 216,
   "metadata": {},
   "outputs": [],
   "source": [
    "test_pred = np.rint(A2)"
   ]
  },
  {
   "cell_type": "code",
   "execution_count": 220,
   "metadata": {},
   "outputs": [
    {
     "name": "stdout",
     "output_type": "stream",
     "text": [
      "np.argmax(test_pred, axis=1): [0 1 2 2 2 1 2 2 2 1 1 1 0 0 0 2 1 0 1 0 2 1 2 0 0 0 1 0 1 2]\n"
     ]
    }
   ],
   "source": [
    "print('np.argmax(test_pred, axis=1): {0}'.format(np.argmax(test_pred.T, axis=1)))"
   ]
  },
  {
   "cell_type": "code",
   "execution_count": null,
   "metadata": {},
   "outputs": [],
   "source": []
  }
 ],
 "metadata": {
  "kernelspec": {
   "display_name": "Python 3",
   "language": "python",
   "name": "python3"
  },
  "language_info": {
   "codemirror_mode": {
    "name": "ipython",
    "version": 3
   },
   "file_extension": ".py",
   "mimetype": "text/x-python",
   "name": "python",
   "nbconvert_exporter": "python",
   "pygments_lexer": "ipython3",
   "version": "3.6.6"
  }
 },
 "nbformat": 4,
 "nbformat_minor": 2
}
